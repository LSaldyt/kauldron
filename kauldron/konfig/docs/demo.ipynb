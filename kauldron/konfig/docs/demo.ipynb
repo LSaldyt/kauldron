{
  "cells": [
    {
      "cell_type": "markdown",
      "metadata": {
        "id": "SeyHxjHl7E02"
      },
      "source": [
        "# Konfig - Demo\n",
        "\n",
        "\n",
        "\n",
        "`konfig` is a wrapper around `ml_collection.ConfigDict`.\n",
        "\n",
        "It allows to turn any Python function call /class construction into a nested dict which can be serialized/deserialized.\n",
        "\n",
        "This unlocks (among others) type checking and autocomplete inside configuration files."
      ]
    },
    {
      "cell_type": "markdown",
      "metadata": {
        "id": "VE8SGGr8ZC8G"
      },
      "source": [
        "## Imports"
      ]
    },
    {
      "cell_type": "markdown",
      "metadata": {
        "id": "0i7r_MKKl62K"
      },
      "source": [
        ""
      ]
    },
    {
      "cell_type": "code",
      "execution_count": null,
      "metadata": {
        "id": "lDaUvAuL3ACp"
      },
      "outputs": [],
      "source": [
        "from etils.lazy_imports import *"
      ]
    },
    {
      "cell_type": "markdown",
      "metadata": {
        "id": "nNj50BqrZyP6"
      },
      "source": [
        "Import `konfig`:"
      ]
    },
    {
      "cell_type": "code",
      "execution_count": null,
      "metadata": {
        "id": "bH31xAx-3Jr6"
      },
      "outputs": [],
      "source": [
        "with ecolab.adhoc():\n",
        "  from kauldron import konfig"
      ]
    },
    {
      "cell_type": "markdown",
      "metadata": {
        "id": "0MFH1vhjGQ4L"
      },
      "source": [
        "## End-to-end example\n",
        "\n",
        "Here is a short example demonstrating how `konfig` work:"
      ]
    },
    {
      "cell_type": "code",
      "execution_count": null,
      "metadata": {
        "id": "wLmDmJnTGU2I"
      },
      "outputs": [],
      "source": [
        "# Step 1: Import your modules you want to be configurable (can be any module)\n",
        "with konfig.imports():\n",
        "  from flax import linen as nn\n",
        "\n",
        "# Step 2: Create your configuration. Nothing is executed yet.\n",
        "model_cfg = nn.Dense(features=32)  # This create a `ConfigDict` instead\n",
        "\n",
        "# Step 3: The config object can be mutated, serialized to json,...\n",
        "model_cfg.features = 64\n",
        "model_cfg.use_bias = True\n",
        "\n",
        "# Step 4: Resolve the config\n",
        "# This is where the actual Python object are created (here the flax module)\n",
        "model = konfig.resolve(model_cfg)"
      ]
    },
    {
      "cell_type": "markdown",
      "metadata": {
        "id": "FliGLhaCZFIs"
      },
      "source": [
        "## Basic usage"
      ]
    },
    {
      "cell_type": "markdown",
      "metadata": {
        "id": "N46-GzeadDA_"
      },
      "source": [
        "### Creating the config"
      ]
    },
    {
      "cell_type": "markdown",
      "metadata": {
        "id": "44NpdMAoZKoB"
      },
      "source": [
        "To turn any Python call into a configurable, the imports have to be wrapped inside a `konfig.imports()` contextmanager:"
      ]
    },
    {
      "cell_type": "code",
      "execution_count": null,
      "metadata": {
        "id": "KBYXAk3BZLhx"
      },
      "outputs": [],
      "source": [
        "with konfig.imports():\n",
        "  import pathlib\n",
        "  import optax\n",
        "  from flax import linen as nn\n",
        "  import numpy as np"
      ]
    },
    {
      "cell_type": "markdown",
      "metadata": {
        "id": "mrZNkIn6ZKyy"
      },
      "source": [
        "Afterward, calling the functions won't execute anything yet, but instead create proxy `ConfigDict`:"
      ]
    },
    {
      "cell_type": "code",
      "execution_count": null,
      "metadata": {
        "colab": {
          "height": 236
        },
        "executionInfo": {
          "elapsed": 57,
          "status": "ok",
          "timestamp": 1699006994106,
          "user": {
            "displayName": "",
            "userId": ""
          },
          "user_tz": -60
        },
        "id": "_1uHbl7JZMg5",
        "outputId": "1255573d-e2f4-4bab-d711-60af463e71fe"
      },
      "outputs": [
        {
          "data": {
            "text/html": [
              "\u003cstyle\u003e/*\n",
              "Colab colors\n",
              "\n",
              "Forked from\n",
              "https://github.com/highlightjs/highlight.js/blob/main/src/styles/default.css\n",
              "\n",
              "TODO(epot): Is there a way to use Colab native `--syntax-class-color`,...\n",
              "directly ?\n",
              "\n",
              "*/\n",
              "\n",
              ".hljs {\n",
              "  /* --color: #f8f8f2; */\n",
              "  --background-color: #f7f7f7;\n",
              "  --property-color: #087db2;\n",
              "  --string-color: #a31515;\n",
              "  --number-color: #008000;\n",
              "  --boolean-color: #0000ff;\n",
              "  --null-color: #af00db;\n",
              "  --preview-color: #888888;\n",
              "\n",
              "  /* color: var(--color); */\n",
              "  font-family: monospace;\n",
              "  font-size: 14px;\n",
              "}\n",
              "\n",
              "html[theme=dark] .hljs {\n",
              "  --background-color: #2c2c2c;\n",
              "  --property-color: #6fb3d2;\n",
              "  --string-color: #ce9178;\n",
              "  --number-color: #b5cea8;\n",
              "  --boolean-color: #569cd6;\n",
              "  --null-color: #c586c0;\n",
              "  --preview-color: #888888;\n",
              "}\n",
              "\n",
              "\n",
              "pre code.hljs {\n",
              "  /* background-color: var(--background-color); */\n",
              "  display: block;\n",
              "  padding: 1em;\n",
              "}\n",
              "\n",
              ".hljs-comment {\n",
              "  color: var(--preview-color);\n",
              "}\n",
              "\n",
              ".hljs-keyword {\n",
              "  color: var(--null-color);\n",
              "}\n",
              "\n",
              ".hljs-string {\n",
              "  color: var(--string-color);\n",
              "}\n",
              "\n",
              ".hljs-number {\n",
              "  color: var(--number-color);\n",
              "}\n",
              "\n",
              ".hljs-literal {\n",
              "  color: var(--boolean-color);\n",
              "}\n",
              "\u003c/style\u003e\n",
              "\u003cscript src=\"//cdnjs.cloudflare.com/ajax/libs/highlight.js/11.7.0/highlight.min.js\"\u003e\u003c/script\u003e\n",
              "\u003cscript\u003ehljs.highlightAll();\u003c/script\u003e\n",
              "\u003cpre\u003e\u003ccode class=\"language-python\"\u003eConfigDict(\n",
              "    model=nn.Dense(\n",
              "        dtype=np.float32,\n",
              "        features=32,\n",
              "    ),\n",
              "    optimizer=optax.chain(\n",
              "        optax.clip_by_global_norm(1.0),\n",
              "        optax.adamw(learning_rate=0.01),\n",
              "    ),\n",
              "    root_dir=pathlib.Path('a', 'b'),\n",
              ")\u003c/code\u003e\u003c/pre\u003e"
            ],
            "text/plain": [
              "ConfigDict(\n",
              "    model=nn.Dense(\n",
              "        dtype=np.float32,\n",
              "        features=32,\n",
              "    ),\n",
              "    optimizer=optax.chain(\n",
              "        optax.clip_by_global_norm(1.0),\n",
              "        optax.adamw(learning_rate=0.01),\n",
              "    ),\n",
              "    root_dir=pathlib.Path('a', 'b'),\n",
              ")"
            ]
          },
          "execution_count": 5,
          "metadata": {},
          "output_type": "execute_result"
        }
      ],
      "source": [
        "cfg = konfig.ConfigDict()\n",
        "\n",
        "cfg.model = nn.Dense(features=32, dtype=np.float32)  # Create `ConfigDict`\n",
        "\n",
        "cfg.optimizer = optax.chain(\n",
        "    optax.clip_by_global_norm(1.0),\n",
        "    optax.adamw(\n",
        "        learning_rate=0.01,\n",
        "    ),\n",
        ")\n",
        "\n",
        "cfg.root_dir = pathlib.Path('a', 'b')\n",
        "\n",
        "cfg"
      ]
    },
    {
      "cell_type": "markdown",
      "metadata": {
        "id": "aRoYW4OYu9g4"
      },
      "source": [
        "`nn.Dense` looks like a standard Python call, but instead of instantiating the module, it creates a nested `ConfigDict` (which can be mutated, serialized, ...)."
      ]
    },
    {
      "cell_type": "code",
      "execution_count": null,
      "metadata": {
        "id": "zvlvr24zuz4A"
      },
      "outputs": [],
      "source": [
        "model = nn.Dense(features=32, dtype=np.float32)\n",
        "\n",
        "assert model == konfig.ConfigDict({\n",
        "    '__qualname__': 'flax.linen:Dense',\n",
        "    'features': 32,\n",
        "    'dtype': {'__const__': 'numpy:float32'},\n",
        "})"
      ]
    },
    {
      "cell_type": "markdown",
      "metadata": {
        "id": "b1CzGjJPdAAh"
      },
      "source": [
        "### Mutating the config"
      ]
    },
    {
      "cell_type": "markdown",
      "metadata": {
        "id": "HWSDuGfyZMwH"
      },
      "source": [
        "Indidivual attributes can be accessed/modified:\n",
        "\n",
        "* kwargs - by mutating `cfg.kwarg_name = `:"
      ]
    },
    {
      "cell_type": "code",
      "execution_count": null,
      "metadata": {
        "colab": {
          "height": 132
        },
        "executionInfo": {
          "elapsed": 60,
          "status": "ok",
          "timestamp": 1681741604021,
          "user": {
            "displayName": "",
            "userId": ""
          },
          "user_tz": -120
        },
        "id": "FQPD4mzw3SaS",
        "outputId": "097775ba-6979-4530-8b46-dac91841e0d1"
      },
      "outputs": [
        {
          "data": {
            "text/html": [
              "\u003cstyle\u003e/*\n",
              "Colab colors\n",
              "\n",
              "Forked from\n",
              "https://github.com/highlightjs/highlight.js/blob/main/src/styles/default.css\n",
              "\n",
              "TODO(epot): Is there a way to use Colab native `--syntax-class-color`,...\n",
              "directly ?\n",
              "\n",
              "*/\n",
              "\n",
              ".hljs {\n",
              "  /* --color: #f8f8f2; */\n",
              "  --background-color: #f7f7f7;\n",
              "  --property-color: #087db2;\n",
              "  --string-color: #a31515;\n",
              "  --number-color: #008000;\n",
              "  --boolean-color: #0000ff;\n",
              "  --null-color: #af00db;\n",
              "  --preview-color: #888888;\n",
              "\n",
              "  /* color: var(--color); */\n",
              "  font-family: monospace;\n",
              "  font-size: 14px;\n",
              "}\n",
              "\n",
              "html[theme=dark] .hljs {\n",
              "  --background-color: #2c2c2c;\n",
              "  --property-color: #6fb3d2;\n",
              "  --string-color: #ce9178;\n",
              "  --number-color: #b5cea8;\n",
              "  --boolean-color: #569cd6;\n",
              "  --null-color: #c586c0;\n",
              "  --preview-color: #888888;\n",
              "}\n",
              "\n",
              "\n",
              "pre code.hljs {\n",
              "  /* background-color: var(--background-color); */\n",
              "  display: block;\n",
              "  padding: 1em;\n",
              "}\n",
              "\n",
              ".hljs-comment {\n",
              "  color: var(--preview-color);\n",
              "}\n",
              "\n",
              ".hljs-keyword {\n",
              "  color: var(--null-color);\n",
              "}\n",
              "\n",
              ".hljs-string {\n",
              "  color: var(--string-color);\n",
              "}\n",
              "\n",
              ".hljs-number {\n",
              "  color: var(--number-color);\n",
              "}\n",
              "\n",
              ".hljs-literal {\n",
              "  color: var(--boolean-color);\n",
              "}\n",
              "\u003c/style\u003e\n",
              "\u003cscript src=\"//cdnjs.cloudflare.com/ajax/libs/highlight.js/11.7.0/highlight.min.js\"\u003e\u003c/script\u003e\n",
              "\u003cscript\u003ehljs.highlightAll();\u003c/script\u003e\n",
              "\u003cpre\u003e\u003ccode class=\"language-python\"\u003eflax.linen.Dense(\n",
              "    dtype=np.float32,\n",
              "    features=64,\n",
              "    use_bias=True,\n",
              ")\u003c/code\u003e\u003c/pre\u003e"
            ],
            "text/plain": [
              "flax.linen.Dense(\n",
              "    dtype=np.float32,\n",
              "    features=64,\n",
              "    use_bias=True,\n",
              ")"
            ]
          },
          "execution_count": 12,
          "metadata": {},
          "output_type": "execute_result"
        }
      ],
      "source": [
        "cfg.model.features = 64\n",
        "cfg.model.use_bias = True\n",
        "cfg.model"
      ]
    },
    {
      "cell_type": "markdown",
      "metadata": {
        "id": "2OePhmukcEXw"
      },
      "source": [
        "* args - by mutating `cfg[arg_id] = `:"
      ]
    },
    {
      "cell_type": "code",
      "execution_count": null,
      "metadata": {
        "colab": {
          "height": 132
        },
        "executionInfo": {
          "elapsed": 58,
          "status": "ok",
          "timestamp": 1681741604466,
          "user": {
            "displayName": "",
            "userId": ""
          },
          "user_tz": -120
        },
        "id": "oY1vTOLOcEjy",
        "outputId": "50069e57-ed6f-4e19-a3fc-28a0d69d2771"
      },
      "outputs": [
        {
          "data": {
            "text/html": [
              "\u003cstyle\u003e/*\n",
              "Colab colors\n",
              "\n",
              "Forked from\n",
              "https://github.com/highlightjs/highlight.js/blob/main/src/styles/default.css\n",
              "\n",
              "TODO(epot): Is there a way to use Colab native `--syntax-class-color`,...\n",
              "directly ?\n",
              "\n",
              "*/\n",
              "\n",
              ".hljs {\n",
              "  /* --color: #f8f8f2; */\n",
              "  --background-color: #f7f7f7;\n",
              "  --property-color: #087db2;\n",
              "  --string-color: #a31515;\n",
              "  --number-color: #008000;\n",
              "  --boolean-color: #0000ff;\n",
              "  --null-color: #af00db;\n",
              "  --preview-color: #888888;\n",
              "\n",
              "  /* color: var(--color); */\n",
              "  font-family: monospace;\n",
              "  font-size: 14px;\n",
              "}\n",
              "\n",
              "html[theme=dark] .hljs {\n",
              "  --background-color: #2c2c2c;\n",
              "  --property-color: #6fb3d2;\n",
              "  --string-color: #ce9178;\n",
              "  --number-color: #b5cea8;\n",
              "  --boolean-color: #569cd6;\n",
              "  --null-color: #c586c0;\n",
              "  --preview-color: #888888;\n",
              "}\n",
              "\n",
              "\n",
              "pre code.hljs {\n",
              "  /* background-color: var(--background-color); */\n",
              "  display: block;\n",
              "  padding: 1em;\n",
              "}\n",
              "\n",
              ".hljs-comment {\n",
              "  color: var(--preview-color);\n",
              "}\n",
              "\n",
              ".hljs-keyword {\n",
              "  color: var(--null-color);\n",
              "}\n",
              "\n",
              ".hljs-string {\n",
              "  color: var(--string-color);\n",
              "}\n",
              "\n",
              ".hljs-number {\n",
              "  color: var(--number-color);\n",
              "}\n",
              "\n",
              ".hljs-literal {\n",
              "  color: var(--boolean-color);\n",
              "}\n",
              "\u003c/style\u003e\n",
              "\u003cscript src=\"//cdnjs.cloudflare.com/ajax/libs/highlight.js/11.7.0/highlight.min.js\"\u003e\u003c/script\u003e\n",
              "\u003cscript\u003ehljs.highlightAll();\u003c/script\u003e\n",
              "\u003cpre\u003e\u003ccode class=\"language-python\"\u003epathlib.Path(\n",
              "    'root',\n",
              "    'last',\n",
              "    'append',\n",
              ")\u003c/code\u003e\u003c/pre\u003e"
            ],
            "text/plain": [
              "pathlib.Path(\n",
              "    'root',\n",
              "    'last',\n",
              "    'append',\n",
              ")"
            ]
          },
          "execution_count": 13,
          "metadata": {},
          "output_type": "execute_result"
        }
      ],
      "source": [
        "cfg.root_dir[0] = 'root'\n",
        "cfg.root_dir[-1] = 'last'\n",
        "cfg.root_dir[2] = 'append'  # Append an additional argument\n",
        "cfg.root_dir"
      ]
    },
    {
      "cell_type": "markdown",
      "metadata": {
        "id": "zUHsET-BcEtO"
      },
      "source": [
        "* class/function - by mutating `cfg.__qualname__ =`:"
      ]
    },
    {
      "cell_type": "code",
      "execution_count": null,
      "metadata": {
        "colab": {
          "height": 132
        },
        "executionInfo": {
          "elapsed": 5,
          "status": "ok",
          "timestamp": 1681741604848,
          "user": {
            "displayName": "",
            "userId": ""
          },
          "user_tz": -120
        },
        "id": "g1Qyl5Sk4yuG",
        "outputId": "1f4b5503-48fa-440b-e469-fccaaec0c2c2"
      },
      "outputs": [
        {
          "data": {
            "text/html": [
              "\u003cstyle\u003e/*\n",
              "Colab colors\n",
              "\n",
              "Forked from\n",
              "https://github.com/highlightjs/highlight.js/blob/main/src/styles/default.css\n",
              "\n",
              "TODO(epot): Is there a way to use Colab native `--syntax-class-color`,...\n",
              "directly ?\n",
              "\n",
              "*/\n",
              "\n",
              ".hljs {\n",
              "  /* --color: #f8f8f2; */\n",
              "  --background-color: #f7f7f7;\n",
              "  --property-color: #087db2;\n",
              "  --string-color: #a31515;\n",
              "  --number-color: #008000;\n",
              "  --boolean-color: #0000ff;\n",
              "  --null-color: #af00db;\n",
              "  --preview-color: #888888;\n",
              "\n",
              "  /* color: var(--color); */\n",
              "  font-family: monospace;\n",
              "  font-size: 14px;\n",
              "}\n",
              "\n",
              "html[theme=dark] .hljs {\n",
              "  --background-color: #2c2c2c;\n",
              "  --property-color: #6fb3d2;\n",
              "  --string-color: #ce9178;\n",
              "  --number-color: #b5cea8;\n",
              "  --boolean-color: #569cd6;\n",
              "  --null-color: #c586c0;\n",
              "  --preview-color: #888888;\n",
              "}\n",
              "\n",
              "\n",
              "pre code.hljs {\n",
              "  /* background-color: var(--background-color); */\n",
              "  display: block;\n",
              "  padding: 1em;\n",
              "}\n",
              "\n",
              ".hljs-comment {\n",
              "  color: var(--preview-color);\n",
              "}\n",
              "\n",
              ".hljs-keyword {\n",
              "  color: var(--null-color);\n",
              "}\n",
              "\n",
              ".hljs-string {\n",
              "  color: var(--string-color);\n",
              "}\n",
              "\n",
              ".hljs-number {\n",
              "  color: var(--number-color);\n",
              "}\n",
              "\n",
              ".hljs-literal {\n",
              "  color: var(--boolean-color);\n",
              "}\n",
              "\u003c/style\u003e\n",
              "\u003cscript src=\"//cdnjs.cloudflare.com/ajax/libs/highlight.js/11.7.0/highlight.min.js\"\u003e\u003c/script\u003e\n",
              "\u003cscript\u003ehljs.highlightAll();\u003c/script\u003e\n",
              "\u003cpre\u003e\u003ccode class=\"language-python\"\u003eflax.linen.DenseGeneral(\n",
              "    dtype=np.float32,\n",
              "    features=64,\n",
              "    use_bias=True,\n",
              ")\u003c/code\u003e\u003c/pre\u003e"
            ],
            "text/plain": [
              "flax.linen.DenseGeneral(\n",
              "    dtype=np.float32,\n",
              "    features=64,\n",
              "    use_bias=True,\n",
              ")"
            ]
          },
          "execution_count": 14,
          "metadata": {},
          "output_type": "execute_result"
        }
      ],
      "source": [
        "cfg.model.__qualname__ = 'flax.linen.DenseGeneral'\n",
        "cfg.model"
      ]
    },
    {
      "cell_type": "markdown",
      "metadata": {
        "id": "ZuO3emDxmVD3"
      },
      "source": [
        "* constants - by mutating `cfg.__const__ =`"
      ]
    },
    {
      "cell_type": "code",
      "execution_count": null,
      "metadata": {
        "id": "Jezd4WHGBdYI"
      },
      "outputs": [],
      "source": [
        "cfg.model.dtype.__const__ = 'numpy:float64'"
      ]
    },
    {
      "cell_type": "markdown",
      "metadata": {
        "id": "tVLuA2lXdGx_"
      },
      "source": [
        "### Resolving the config"
      ]
    },
    {
      "cell_type": "markdown",
      "metadata": {
        "id": "lyKbmzl56b9c"
      },
      "source": [
        "Finally, use `konfig.resolve` to convert the config to actual object:"
      ]
    },
    {
      "cell_type": "code",
      "execution_count": null,
      "metadata": {
        "colab": {
          "height": 392
        },
        "executionInfo": {
          "elapsed": 65,
          "status": "ok",
          "timestamp": 1681741606187,
          "user": {
            "displayName": "",
            "userId": ""
          },
          "user_tz": -120
        },
        "id": "x9jEeKTj6afJ",
        "outputId": "a59df02d-3dee-4e3e-96ea-0567492ab628"
      },
      "outputs": [
        {
          "data": {
            "text/html": [
              "\u003cstyle\u003e/*\n",
              "Colab colors\n",
              "\n",
              "Forked from\n",
              "https://github.com/highlightjs/highlight.js/blob/main/src/styles/default.css\n",
              "\n",
              "TODO(epot): Is there a way to use Colab native `--syntax-class-color`,...\n",
              "directly ?\n",
              "\n",
              "*/\n",
              "\n",
              ".hljs {\n",
              "  /* --color: #f8f8f2; */\n",
              "  --background-color: #f7f7f7;\n",
              "  --property-color: #087db2;\n",
              "  --string-color: #a31515;\n",
              "  --number-color: #008000;\n",
              "  --boolean-color: #0000ff;\n",
              "  --null-color: #af00db;\n",
              "  --preview-color: #888888;\n",
              "\n",
              "  /* color: var(--color); */\n",
              "  font-family: monospace;\n",
              "  font-size: 14px;\n",
              "}\n",
              "\n",
              "html[theme=dark] .hljs {\n",
              "  --background-color: #2c2c2c;\n",
              "  --property-color: #6fb3d2;\n",
              "  --string-color: #ce9178;\n",
              "  --number-color: #b5cea8;\n",
              "  --boolean-color: #569cd6;\n",
              "  --null-color: #c586c0;\n",
              "  --preview-color: #888888;\n",
              "}\n",
              "\n",
              "\n",
              "pre code.hljs {\n",
              "  /* background-color: var(--background-color); */\n",
              "  display: block;\n",
              "  padding: 1em;\n",
              "}\n",
              "\n",
              ".hljs-comment {\n",
              "  color: var(--preview-color);\n",
              "}\n",
              "\n",
              ".hljs-keyword {\n",
              "  color: var(--null-color);\n",
              "}\n",
              "\n",
              ".hljs-string {\n",
              "  color: var(--string-color);\n",
              "}\n",
              "\n",
              ".hljs-number {\n",
              "  color: var(--number-color);\n",
              "}\n",
              "\n",
              ".hljs-literal {\n",
              "  color: var(--boolean-color);\n",
              "}\n",
              "\u003c/style\u003e\n",
              "\u003cscript src=\"//cdnjs.cloudflare.com/ajax/libs/highlight.js/11.7.0/highlight.min.js\"\u003e\u003c/script\u003e\n",
              "\u003cscript\u003ehljs.highlightAll();\u003c/script\u003e\n",
              "\u003cpre\u003e\u003ccode class=\"language-python\"\u003eConfigDict(\n",
              "    model=DenseGeneral(\n",
              "        # attributes\n",
              "        features = 64\n",
              "        axis = -1\n",
              "        batch_dims = ()\n",
              "        use_bias = True\n",
              "        dtype = float64\n",
              "        param_dtype = float32\n",
              "        kernel_init = init\n",
              "        bias_init = zeros\n",
              "        precision = None\n",
              "        dot_general = dot_general\n",
              "    ),\n",
              "    optimizer=(\n",
              "        \u003cfunction chain.\u003clocals\u003e.init_fn at 0x7f913bec3400\u003e,\n",
              "        \u003cfunction chain.\u003clocals\u003e.update_fn at 0x7f913bec30a0\u003e,\n",
              "    ),\n",
              "    root_dir=PosixPath('root/last/append'),\n",
              ")\u003c/code\u003e\u003c/pre\u003e"
            ],
            "text/plain": [
              "ConfigDict(\n",
              "    model=DenseGeneral(\n",
              "        # attributes\n",
              "        features = 64\n",
              "        axis = -1\n",
              "        batch_dims = ()\n",
              "        use_bias = True\n",
              "        dtype = float64\n",
              "        param_dtype = float32\n",
              "        kernel_init = init\n",
              "        bias_init = zeros\n",
              "        precision = None\n",
              "        dot_general = dot_general\n",
              "    ),\n",
              "    optimizer=(\n",
              "        \u003cfunction chain.\u003clocals\u003e.init_fn at 0x7f913bec3400\u003e,\n",
              "        \u003cfunction chain.\u003clocals\u003e.update_fn at 0x7f913bec30a0\u003e,\n",
              "    ),\n",
              "    root_dir=PosixPath('root/last/append'),\n",
              ")"
            ]
          },
          "execution_count": 16,
          "metadata": {},
          "output_type": "execute_result"
        }
      ],
      "source": [
        "resolved_cfg = konfig.resolve(cfg)\n",
        "resolved_cfg"
      ]
    },
    {
      "cell_type": "code",
      "execution_count": null,
      "metadata": {
        "executionInfo": {
          "elapsed": 3,
          "status": "ok",
          "timestamp": 1681741606437,
          "user": {
            "displayName": "",
            "userId": ""
          },
          "user_tz": -120
        },
        "id": "Qij9FMHidq0P",
        "outputId": "c145e6ff-ee5a-485d-a877-3fee76ff6007"
      },
      "outputs": [
        {
          "data": {
            "text/plain": [
              "False"
            ]
          },
          "execution_count": 17,
          "metadata": {},
          "output_type": "execute_result"
        }
      ],
      "source": [
        "resolved_cfg.root_dir.exists()  # root_dir is now a `pathlib` object"
      ]
    },
    {
      "cell_type": "markdown",
      "metadata": {
        "id": "vH9yEJgRdgF8"
      },
      "source": [
        "### Serializing/deserializing the config"
      ]
    },
    {
      "cell_type": "markdown",
      "metadata": {
        "id": "sPmelnwPm5-1"
      },
      "source": [
        "ConfigDict can be serialized with `.to_json`"
      ]
    },
    {
      "cell_type": "code",
      "execution_count": null,
      "metadata": {
        "colab": {
          "height": 53
        },
        "executionInfo": {
          "elapsed": 60,
          "status": "ok",
          "timestamp": 1681741676961,
          "user": {
            "displayName": "",
            "userId": ""
          },
          "user_tz": -120
        },
        "id": "kaw8ZX3n_eiJ",
        "outputId": "ec730555-4212-4e83-d235-00275ab8cc6a"
      },
      "outputs": [
        {
          "data": {
            "application/vnd.google.colaboratory.intrinsic+json": {
              "type": "string"
            },
            "text/plain": [
              "'{\"model\": {\"__qualname__\": \"flax.linen.DenseGeneral\", \"features\": 64, \"dtype\": {\"__const__\": \"numpy:float64\"}, \"use_bias\": true}, \"optimizer\": {\"__qualname__\": \"optax:chain\", \"0\": {\"__qualname__\": \"optax:clip_by_global_norm\", \"0\": 1.0}, \"1\": {\"__qualname__\": \"optax:adamw\", \"learning_rate\": 0.01}}, \"root_dir\": {\"__qualname__\": \"pathlib:Path\", \"0\": \"root\", \"1\": \"last\", \"2\": \"append\"}}'"
            ]
          },
          "execution_count": 20,
          "metadata": {},
          "output_type": "execute_result"
        }
      ],
      "source": [
        "json_str = cfg.to_json()\n",
        "json_str"
      ]
    },
    {
      "cell_type": "markdown",
      "metadata": {
        "id": "gHlaj1S6nawf"
      },
      "source": [
        "And restored by passing the json dict:"
      ]
    },
    {
      "cell_type": "code",
      "execution_count": null,
      "metadata": {
        "colab": {
          "height": 323
        },
        "executionInfo": {
          "elapsed": 4,
          "status": "ok",
          "timestamp": 1681741719433,
          "user": {
            "displayName": "",
            "userId": ""
          },
          "user_tz": -120
        },
        "id": "VMUdb5XqnIG9",
        "outputId": "5b97a5a2-9865-4e57-fe96-acc460f62409"
      },
      "outputs": [
        {
          "data": {
            "text/html": [
              "\u003cstyle\u003e/*\n",
              "Colab colors\n",
              "\n",
              "Forked from\n",
              "https://github.com/highlightjs/highlight.js/blob/main/src/styles/default.css\n",
              "\n",
              "TODO(epot): Is there a way to use Colab native `--syntax-class-color`,...\n",
              "directly ?\n",
              "\n",
              "*/\n",
              "\n",
              ".hljs {\n",
              "  /* --color: #f8f8f2; */\n",
              "  --background-color: #f7f7f7;\n",
              "  --property-color: #087db2;\n",
              "  --string-color: #a31515;\n",
              "  --number-color: #008000;\n",
              "  --boolean-color: #0000ff;\n",
              "  --null-color: #af00db;\n",
              "  --preview-color: #888888;\n",
              "\n",
              "  /* color: var(--color); */\n",
              "  font-family: monospace;\n",
              "  font-size: 14px;\n",
              "}\n",
              "\n",
              "html[theme=dark] .hljs {\n",
              "  --background-color: #2c2c2c;\n",
              "  --property-color: #6fb3d2;\n",
              "  --string-color: #ce9178;\n",
              "  --number-color: #b5cea8;\n",
              "  --boolean-color: #569cd6;\n",
              "  --null-color: #c586c0;\n",
              "  --preview-color: #888888;\n",
              "}\n",
              "\n",
              "\n",
              "pre code.hljs {\n",
              "  /* background-color: var(--background-color); */\n",
              "  display: block;\n",
              "  padding: 1em;\n",
              "}\n",
              "\n",
              ".hljs-comment {\n",
              "  color: var(--preview-color);\n",
              "}\n",
              "\n",
              ".hljs-keyword {\n",
              "  color: var(--null-color);\n",
              "}\n",
              "\n",
              ".hljs-string {\n",
              "  color: var(--string-color);\n",
              "}\n",
              "\n",
              ".hljs-number {\n",
              "  color: var(--number-color);\n",
              "}\n",
              "\n",
              ".hljs-literal {\n",
              "  color: var(--boolean-color);\n",
              "}\n",
              "\u003c/style\u003e\n",
              "\u003cscript src=\"//cdnjs.cloudflare.com/ajax/libs/highlight.js/11.7.0/highlight.min.js\"\u003e\u003c/script\u003e\n",
              "\u003cscript\u003ehljs.highlightAll();\u003c/script\u003e\n",
              "\u003cpre\u003e\u003ccode class=\"language-python\"\u003eConfigDict(\n",
              "    model=flax.linen.DenseGeneral(\n",
              "        dtype=np.float64,\n",
              "        features=64,\n",
              "        use_bias=True,\n",
              "    ),\n",
              "    optimizer=optax.chain(\n",
              "        optax.clip_by_global_norm(1.0),\n",
              "        optax.adamw(learning_rate=0.01),\n",
              "    ),\n",
              "    root_dir=pathlib.Path(\n",
              "        'root',\n",
              "        'last',\n",
              "        'append',\n",
              "    ),\n",
              ")\u003c/code\u003e\u003c/pre\u003e"
            ],
            "text/plain": [
              "ConfigDict(\n",
              "    model=flax.linen.DenseGeneral(\n",
              "        dtype=np.float64,\n",
              "        features=64,\n",
              "        use_bias=True,\n",
              "    ),\n",
              "    optimizer=optax.chain(\n",
              "        optax.clip_by_global_norm(1.0),\n",
              "        optax.adamw(learning_rate=0.01),\n",
              "    ),\n",
              "    root_dir=pathlib.Path(\n",
              "        'root',\n",
              "        'last',\n",
              "        'append',\n",
              "    ),\n",
              ")"
            ]
          },
          "execution_count": 21,
          "metadata": {},
          "output_type": "execute_result"
        }
      ],
      "source": [
        "konfig.ConfigDict(json.loads(json_str))"
      ]
    },
    {
      "cell_type": "markdown",
      "metadata": {
        "id": "37VELFrsnsC8"
      },
      "source": [
        "Caveat:\n",
        "\n",
        "* Json do no preserve tuple/list information. `tuple` are restored as `list`"
      ]
    }
  ],
  "metadata": {
    "colab": {
      "last_runtime": {
        "build_target": "//learning/grp/tools/ml_python:ml_notebook",
        "kind": "private"
      },
      "provenance": [
        {
          "file_id": "1kRjxUCpYnsLD0LbVUSbcPNY5slnuI6Bo",
          "timestamp": 1681722455909
        }
      ]
    },
    "kernelspec": {
      "display_name": "Python 3",
      "name": "python3"
    },
    "language_info": {
      "name": "python"
    }
  },
  "nbformat": 4,
  "nbformat_minor": 0
}
